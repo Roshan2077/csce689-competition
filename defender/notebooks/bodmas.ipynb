{
 "cells": [
  {
   "cell_type": "code",
   "execution_count": 153,
   "metadata": {},
   "outputs": [],
   "source": [
    "import numpy as np\n",
    "import pandas as pd\n",
    "import joblib\n",
    "from sklearn.model_selection import train_test_split\n",
    "from sklearn.ensemble import RandomForestClassifier\n",
    "from sklearn.metrics import accuracy_score\n",
    "\n",
    "from tensorflow.keras.layers import Dense, Input, Dropout\n",
    "from tensorflow.keras import Sequential\n",
    "from tensorflow.keras.utils import to_categorical\n",
    "from tensorflow.keras.optimizers import Adam\n"
   ]
  },
  {
   "cell_type": "code",
   "execution_count": 154,
   "metadata": {},
   "outputs": [],
   "source": [
    "file_path = \"../data/bodmas.npz\""
   ]
  },
  {
   "cell_type": "code",
   "execution_count": 155,
   "metadata": {},
   "outputs": [],
   "source": [
    "features = [\n",
    "    \"Machine\",\n",
    "    \"NumberOfSections\",\n",
    "    \"TimeDateStamp\",\n",
    "    \"PointerToSymbolTable\",\n",
    "    \"NumberOfSymbols\",\n",
    "    \"SizeOfOptionalHeader\",\n",
    "    \"Characteristics\",\n",
    "    \"Magic\",\n",
    "    \"MajorLinkerVersion\",\n",
    "    \"MinorLinkerVersion\",\n",
    "    \"SizeOfCode\",\n",
    "    \"SizeOfInitializedData\",\n",
    "    \"SizeOfUninitializedData\",\n",
    "    \"AddressOfEntryPoint\",\n",
    "    \"BaseOfCode\",\n",
    "    \"ImageBase\",\n",
    "    \"SectionAlignment\",\n",
    "    \"FileAlignment\",\n",
    "    \"MajorOperatingSystemVersion\",\n",
    "    \"MinorOperatingSystemVersion\",\n",
    "    \"MajorImageVersion\",\n",
    "    \"MinorImageVersion\",\n",
    "    \"MajorSubsystemVersion\",\n",
    "    \"MinorSubsystemVersion\",\n",
    "    \"SizeOfImage\",\n",
    "    \"SizeOfHeaders\",\n",
    "    \"CheckSum\",\n",
    "    \"Subsystem\",\n",
    "    \"DllCharacteristics\",\n",
    "    \"SizeOfStackReserve\",\n",
    "    \"SizeOfStackCommit\",\n",
    "    \"SizeOfHeapReserve\",\n",
    "    \"SizeOfHeapCommit\",\n",
    "    \"LoaderFlags\",\n",
    "    \"NumberOfRvaAndSizes\"\n",
    "]"
   ]
  },
  {
   "cell_type": "code",
   "execution_count": 156,
   "metadata": {},
   "outputs": [
    {
     "name": "stdout",
     "output_type": "stream",
     "text": [
      "(134435, 2381) (134435,)\n"
     ]
    }
   ],
   "source": [
    "data = np.load(file_path)\n",
    "X = data['X']\n",
    "y = data['y']\n",
    "print(X.shape, y.shape)"
   ]
  },
  {
   "cell_type": "code",
   "execution_count": 157,
   "metadata": {},
   "outputs": [
    {
     "name": "stdout",
     "output_type": "stream",
     "text": [
      "0 Machine\n",
      "1 NumberOfSections\n",
      "2 TimeDateStamp\n",
      "3 PointerToSymbolTable\n",
      "4 NumberOfSymbols\n",
      "5 SizeOfOptionalHeader\n",
      "6 Characteristics\n",
      "7 Magic\n",
      "8 MajorLinkerVersion\n",
      "9 MinorLinkerVersion\n",
      "10 SizeOfCode\n",
      "11 SizeOfInitializedData\n",
      "12 SizeOfUninitializedData\n",
      "13 AddressOfEntryPoint\n",
      "14 BaseOfCode\n",
      "15 ImageBase\n",
      "16 SectionAlignment\n",
      "17 FileAlignment\n",
      "18 MajorOperatingSystemVersion\n",
      "19 MinorOperatingSystemVersion\n",
      "20 MajorImageVersion\n",
      "21 MinorImageVersion\n",
      "22 MajorSubsystemVersion\n",
      "23 MinorSubsystemVersion\n",
      "24 SizeOfImage\n",
      "25 SizeOfHeaders\n",
      "26 CheckSum\n",
      "27 Subsystem\n",
      "28 DllCharacteristics\n",
      "29 SizeOfStackReserve\n",
      "30 SizeOfStackCommit\n",
      "31 SizeOfHeapReserve\n",
      "32 SizeOfHeapCommit\n",
      "33 LoaderFlags\n",
      "34 NumberOfRvaAndSizes\n"
     ]
    }
   ],
   "source": [
    "# Print all the features\n",
    "for i, feature in enumerate(features):\n",
    "    print(i, feature)\n",
    "\n",
    "# Feature selection\n",
    "selected_features = [\n",
    "    0, 1, 2, 3, 4, 5, 6, 7, 8, 9, 10, 11, 12, 13, 14, 15, 16, 17, 18, 19, 20, 21, 22, 23, 24, 25, 26, 27, 28, 29, 30, 31, 32, 33, 34\n",
    "]\n",
    "\n",
    "X = X[:, selected_features]"
   ]
  },
  {
   "cell_type": "code",
   "execution_count": 158,
   "metadata": {},
   "outputs": [
    {
     "name": "stdout",
     "output_type": "stream",
     "text": [
      "(107548, 35) (26887, 35) (107548,) (26887,)\n"
     ]
    }
   ],
   "source": [
    "X_train, X_test, y_train, y_test = train_test_split(X, y, test_size=0.2, random_state=42)\n",
    "print(X_train.shape, X_test.shape, y_train.shape, y_test.shape)"
   ]
  },
  {
   "cell_type": "code",
   "execution_count": 159,
   "metadata": {},
   "outputs": [
    {
     "name": "stdout",
     "output_type": "stream",
     "text": [
      "107548 26887\n"
     ]
    }
   ],
   "source": [
    "train_rows = X_train.shape[0]\n",
    "test_rows = X_test.shape[0]\n",
    "print(train_rows, test_rows)"
   ]
  },
  {
   "cell_type": "code",
   "execution_count": 160,
   "metadata": {},
   "outputs": [
    {
     "name": "stdout",
     "output_type": "stream",
     "text": [
      "(26887, 2)\n"
     ]
    }
   ],
   "source": [
    "y_binary = to_categorical(y_test)\n",
    "print(y_binary.shape)"
   ]
  },
  {
   "cell_type": "code",
   "execution_count": 165,
   "metadata": {},
   "outputs": [
    {
     "name": "stdout",
     "output_type": "stream",
     "text": [
      "Accuracy: 93.15\n"
     ]
    }
   ],
   "source": [
    "# Train Random Forest\n",
    "clf = RandomForestClassifier(n_estimators=64, max_depth=10, random_state=0)\n",
    "clf.fit(X_train, y_train)\n",
    "\n",
    "# Predict\n",
    "y_pred = clf.predict(X_test)\n",
    "accuracy = accuracy_score(y_test, y_pred)\n",
    "print('Accuracy: %.2f' % (accuracy*100))"
   ]
  },
  {
   "cell_type": "code",
   "execution_count": 162,
   "metadata": {},
   "outputs": [
    {
     "data": {
      "text/plain": [
       "['../models/bodmas/model.joblib']"
      ]
     },
     "execution_count": 162,
     "metadata": {},
     "output_type": "execute_result"
    }
   ],
   "source": [
    "# Save Model\n",
    "joblib.dump(clf, \"../models/bodmas/model.joblib\")"
   ]
  }
 ],
 "metadata": {
  "kernelspec": {
   "display_name": "csce",
   "language": "python",
   "name": "python3"
  },
  "language_info": {
   "codemirror_mode": {
    "name": "ipython",
    "version": 3
   },
   "file_extension": ".py",
   "mimetype": "text/x-python",
   "name": "python",
   "nbconvert_exporter": "python",
   "pygments_lexer": "ipython3",
   "version": "3.10.14"
  }
 },
 "nbformat": 4,
 "nbformat_minor": 2
}
